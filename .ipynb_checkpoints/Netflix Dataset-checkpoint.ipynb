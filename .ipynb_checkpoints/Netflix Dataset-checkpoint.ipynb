{
 "cells": [
  {
   "cell_type": "markdown",
   "id": "0a51c492",
   "metadata": {},
   "source": [
    "## Netflix Dataset: Cleaning and Visualisation\n",
    "_Author: Tshepo Ralehoko_ \\\n",
    "_Date: 19 July 2023_"
   ]
  },
  {
   "cell_type": "markdown",
   "id": "37bf5081",
   "metadata": {},
   "source": [
    "#### Objective \n",
    "\n",
    "The purpose of this project is to use the __Netflix__ dataset obtained from [Kaggle](https://www.kaggle.com/datasets) website to answer the questions that listed below. Additionally, the aim of the project is to visual any interesting insights. The following insights shall be explored: \n",
    "\n"
   ]
  },
  {
   "cell_type": "markdown",
   "id": "9311d6b5",
   "metadata": {},
   "source": [
    "#### Tech Stack\n",
    "\n",
    "__Programming language: Python__ \\\n",
    "__Libraries:__ Pandas"
   ]
  },
  {
   "cell_type": "markdown",
   "id": "165835fa",
   "metadata": {},
   "source": [
    "### Code"
   ]
  },
  {
   "cell_type": "markdown",
   "id": "0b6cc24e",
   "metadata": {},
   "source": [
    "#### Importing modules"
   ]
  },
  {
   "cell_type": "code",
   "execution_count": 3,
   "id": "e2b0f24f",
   "metadata": {},
   "outputs": [],
   "source": [
    "# importing the requiste modules\n",
    "\n",
    "import pandas as pd"
   ]
  },
  {
   "cell_type": "markdown",
   "id": "1c51f87e",
   "metadata": {},
   "source": [
    "#### Reading dataset"
   ]
  },
  {
   "cell_type": "code",
   "execution_count": 4,
   "id": "72e7e62c",
   "metadata": {},
   "outputs": [],
   "source": [
    "# loading the dataset\n",
    "\n",
    "df=pd.read_csv(filepath_or_buffer=r'C:\\Users\\rtral\\Datasets\\netflix data\\netflix_titles.csv')"
   ]
  },
  {
   "cell_type": "markdown",
   "id": "f9685610",
   "metadata": {},
   "source": [
    "#### Data Cleaning and Manipulation"
   ]
  },
  {
   "cell_type": "code",
   "execution_count": 5,
   "id": "d113cd15",
   "metadata": {},
   "outputs": [
    {
     "name": "stdout",
     "output_type": "stream",
     "text": [
      "this dataset has 7787 rows and 12 columns\n"
     ]
    }
   ],
   "source": [
    "# number of rows and columns\n",
    "\n",
    "print('this dataset has {} rows and {} columns'.format(df.shape[0], df.shape[1]))"
   ]
  },
  {
   "cell_type": "code",
   "execution_count": 6,
   "id": "3baa8df2",
   "metadata": {},
   "outputs": [],
   "source": [
    "# the maximum width in characters of a column \n",
    "\n",
    "pd.set_option('display.max_colwidth', None)"
   ]
  },
  {
   "cell_type": "code",
   "execution_count": 7,
   "id": "0714d761",
   "metadata": {},
   "outputs": [
    {
     "data": {
      "text/html": [
       "<div>\n",
       "<style scoped>\n",
       "    .dataframe tbody tr th:only-of-type {\n",
       "        vertical-align: middle;\n",
       "    }\n",
       "\n",
       "    .dataframe tbody tr th {\n",
       "        vertical-align: top;\n",
       "    }\n",
       "\n",
       "    .dataframe thead th {\n",
       "        text-align: right;\n",
       "    }\n",
       "</style>\n",
       "<table border=\"1\" class=\"dataframe\">\n",
       "  <thead>\n",
       "    <tr style=\"text-align: right;\">\n",
       "      <th></th>\n",
       "      <th>show_id</th>\n",
       "      <th>type</th>\n",
       "      <th>title</th>\n",
       "      <th>director</th>\n",
       "      <th>cast</th>\n",
       "      <th>country</th>\n",
       "      <th>date_added</th>\n",
       "      <th>release_year</th>\n",
       "      <th>rating</th>\n",
       "      <th>duration</th>\n",
       "      <th>listed_in</th>\n",
       "      <th>description</th>\n",
       "    </tr>\n",
       "  </thead>\n",
       "  <tbody>\n",
       "    <tr>\n",
       "      <th>0</th>\n",
       "      <td>s1</td>\n",
       "      <td>TV Show</td>\n",
       "      <td>3%</td>\n",
       "      <td>NaN</td>\n",
       "      <td>João Miguel, Bianca Comparato, Michel Gomes, Rodolfo Valente, Vaneza Oliveira, Rafael Lozano, Viviane Porto, Mel Fronckowiak, Sergio Mamberti, Zezé Motta, Celso Frateschi</td>\n",
       "      <td>Brazil</td>\n",
       "      <td>August 14, 2020</td>\n",
       "      <td>2020</td>\n",
       "      <td>TV-MA</td>\n",
       "      <td>4 Seasons</td>\n",
       "      <td>International TV Shows, TV Dramas, TV Sci-Fi &amp; Fantasy</td>\n",
       "      <td>In a future where the elite inhabit an island paradise far from the crowded slums, you get one chance to join the 3% saved from squalor.</td>\n",
       "    </tr>\n",
       "    <tr>\n",
       "      <th>1</th>\n",
       "      <td>s2</td>\n",
       "      <td>Movie</td>\n",
       "      <td>7:19</td>\n",
       "      <td>Jorge Michel Grau</td>\n",
       "      <td>Demián Bichir, Héctor Bonilla, Oscar Serrano, Azalia Ortiz, Octavio Michel, Carmen Beato</td>\n",
       "      <td>Mexico</td>\n",
       "      <td>December 23, 2016</td>\n",
       "      <td>2016</td>\n",
       "      <td>TV-MA</td>\n",
       "      <td>93 min</td>\n",
       "      <td>Dramas, International Movies</td>\n",
       "      <td>After a devastating earthquake hits Mexico City, trapped survivors from all walks of life wait to be rescued while trying desperately to stay alive.</td>\n",
       "    </tr>\n",
       "  </tbody>\n",
       "</table>\n",
       "</div>"
      ],
      "text/plain": [
       "  show_id     type title           director  \\\n",
       "0      s1  TV Show    3%                NaN   \n",
       "1      s2    Movie  7:19  Jorge Michel Grau   \n",
       "\n",
       "                                                                                                                                                                         cast  \\\n",
       "0  João Miguel, Bianca Comparato, Michel Gomes, Rodolfo Valente, Vaneza Oliveira, Rafael Lozano, Viviane Porto, Mel Fronckowiak, Sergio Mamberti, Zezé Motta, Celso Frateschi   \n",
       "1                                                                                    Demián Bichir, Héctor Bonilla, Oscar Serrano, Azalia Ortiz, Octavio Michel, Carmen Beato   \n",
       "\n",
       "  country         date_added  release_year rating   duration  \\\n",
       "0  Brazil    August 14, 2020          2020  TV-MA  4 Seasons   \n",
       "1  Mexico  December 23, 2016          2016  TV-MA     93 min   \n",
       "\n",
       "                                                listed_in  \\\n",
       "0  International TV Shows, TV Dramas, TV Sci-Fi & Fantasy   \n",
       "1                            Dramas, International Movies   \n",
       "\n",
       "                                                                                                                                            description  \n",
       "0              In a future where the elite inhabit an island paradise far from the crowded slums, you get one chance to join the 3% saved from squalor.  \n",
       "1  After a devastating earthquake hits Mexico City, trapped survivors from all walks of life wait to be rescued while trying desperately to stay alive.  "
      ]
     },
     "execution_count": 7,
     "metadata": {},
     "output_type": "execute_result"
    }
   ],
   "source": [
    "# inspecting a few observations\n",
    "# column are clearly visible in the print out below\n",
    "# missing values noted for the director column\n",
    "\n",
    "df.head(n=2)"
   ]
  },
  {
   "cell_type": "markdown",
   "id": "c572d772",
   "metadata": {},
   "source": [
    "#### Columns guide:\n",
    "\n",
    "1. __show_id:__ Show identifier\n",
    "2. __type:__ TV show or movie.\n",
    "3. __title:__ Title of the TV show or movie.\n",
    "4. __director:__ Director of the TV show or movie.\n",
    "5. __cast:__ Overall cast members.\n",
    "6. __country:__ Country released in.\n",
    "7. __date_added:__ Date added on __Netflix__.\n",
    "8. __release_year:__ The release year.\n",
    "9. __rating:__ Rating on __Netflix__.\n",
    "10. __duration:__ Duration of TV show or movie.\n",
    "11. __listed_in:__ A list of genres. \n",
    "12. __description:__ A brief description of TV show or movie.\n"
   ]
  },
  {
   "cell_type": "code",
   "execution_count": 8,
   "id": "1afdfeea",
   "metadata": {},
   "outputs": [
    {
     "name": "stdout",
     "output_type": "stream",
     "text": [
      "the number and percentage of missing values by column \n",
      "\n",
      "              null_count  null_rate\n",
      "director            2389      30.68\n",
      "cast                 718       9.22\n",
      "country              507       6.51\n",
      "date_added            10       0.13\n",
      "rating                 7       0.09\n",
      "show_id                0       0.00\n",
      "type                   0       0.00\n",
      "title                  0       0.00\n",
      "release_year           0       0.00\n",
      "duration               0       0.00\n",
      "listed_in              0       0.00\n",
      "description            0       0.00\n"
     ]
    }
   ],
   "source": [
    "print('the number and percentage of missing values by column \\n')\n",
    "\n",
    "def missing_values(df):\n",
    "    \n",
    "    # count of null values for each column\n",
    "    null_count=df.isnull().sum().sort_values(ascending=False)\n",
    "    \n",
    "    # percent count of null values \n",
    "    null_rate=100*(null_count/len(df)).round(decimals=4)\n",
    "    \n",
    "    # tabling the results\n",
    "    miss_tbl=pd.concat([null_count, null_rate], axis=1)\n",
    "    \n",
    "    # renaming the columns the above table    \n",
    "    col_renaming=miss_tbl.rename(\n",
    "    columns = {0: 'null_count', 1: 'null_rate'})\n",
    "    \n",
    "    # returning the final table\n",
    "    \n",
    "    return col_renaming\n",
    "      \n",
    "# printing out the results\n",
    "\n",
    "print(missing_values(df))"
   ]
  },
  {
   "cell_type": "code",
   "execution_count": 9,
   "id": "e972d30a",
   "metadata": {
    "scrolled": true
   },
   "outputs": [
    {
     "name": "stdout",
     "output_type": "stream",
     "text": [
      "show_id         object\n",
      "type            object\n",
      "title           object\n",
      "director        object\n",
      "cast            object\n",
      "country         object\n",
      "date_added      object\n",
      "release_year     int64\n",
      "rating          object\n",
      "duration        object\n",
      "listed_in       object\n",
      "description     object\n",
      "dtype: object\n"
     ]
    }
   ],
   "source": [
    "# taking a look at the datatypes of the columns\n",
    "\n",
    "print(df.dtypes)"
   ]
  },
  {
   "cell_type": "code",
   "execution_count": 10,
   "id": "d11fcce2",
   "metadata": {},
   "outputs": [
    {
     "name": "stdout",
     "output_type": "stream",
     "text": [
      "the number of duplicated rows: 0\n"
     ]
    }
   ],
   "source": [
    "# duplicates\n",
    "\n",
    "print('the number of duplicated rows:', df.duplicated().sum())"
   ]
  },
  {
   "cell_type": "code",
   "execution_count": 11,
   "id": "a1a3e8f1",
   "metadata": {},
   "outputs": [
    {
     "name": "stdout",
     "output_type": "stream",
     "text": [
      "the minimum count and maximum count of the number of characters in each string variable \n",
      "\n"
     ]
    },
    {
     "data": {
      "text/html": [
       "<div>\n",
       "<style scoped>\n",
       "    .dataframe tbody tr th:only-of-type {\n",
       "        vertical-align: middle;\n",
       "    }\n",
       "\n",
       "    .dataframe tbody tr th {\n",
       "        vertical-align: top;\n",
       "    }\n",
       "\n",
       "    .dataframe thead th {\n",
       "        text-align: right;\n",
       "    }\n",
       "</style>\n",
       "<table border=\"1\" class=\"dataframe\">\n",
       "  <thead>\n",
       "    <tr style=\"text-align: right;\">\n",
       "      <th></th>\n",
       "      <th>Column</th>\n",
       "      <th>Min_count</th>\n",
       "      <th>Max_count</th>\n",
       "    </tr>\n",
       "  </thead>\n",
       "  <tbody>\n",
       "    <tr>\n",
       "      <th>0</th>\n",
       "      <td>show_id</td>\n",
       "      <td>2</td>\n",
       "      <td>5</td>\n",
       "    </tr>\n",
       "    <tr>\n",
       "      <th>1</th>\n",
       "      <td>type</td>\n",
       "      <td>5</td>\n",
       "      <td>7</td>\n",
       "    </tr>\n",
       "    <tr>\n",
       "      <th>2</th>\n",
       "      <td>title</td>\n",
       "      <td>1</td>\n",
       "      <td>104</td>\n",
       "    </tr>\n",
       "    <tr>\n",
       "      <th>3</th>\n",
       "      <td>director</td>\n",
       "      <td>2</td>\n",
       "      <td>208</td>\n",
       "    </tr>\n",
       "    <tr>\n",
       "      <th>4</th>\n",
       "      <td>cast</td>\n",
       "      <td>3</td>\n",
       "      <td>771</td>\n",
       "    </tr>\n",
       "    <tr>\n",
       "      <th>5</th>\n",
       "      <td>country</td>\n",
       "      <td>4</td>\n",
       "      <td>123</td>\n",
       "    </tr>\n",
       "    <tr>\n",
       "      <th>6</th>\n",
       "      <td>date_added</td>\n",
       "      <td>11</td>\n",
       "      <td>19</td>\n",
       "    </tr>\n",
       "    <tr>\n",
       "      <th>7</th>\n",
       "      <td>rating</td>\n",
       "      <td>1</td>\n",
       "      <td>8</td>\n",
       "    </tr>\n",
       "    <tr>\n",
       "      <th>8</th>\n",
       "      <td>duration</td>\n",
       "      <td>5</td>\n",
       "      <td>10</td>\n",
       "    </tr>\n",
       "    <tr>\n",
       "      <th>9</th>\n",
       "      <td>listed_in</td>\n",
       "      <td>6</td>\n",
       "      <td>79</td>\n",
       "    </tr>\n",
       "    <tr>\n",
       "      <th>10</th>\n",
       "      <td>description</td>\n",
       "      <td>61</td>\n",
       "      <td>248</td>\n",
       "    </tr>\n",
       "  </tbody>\n",
       "</table>\n",
       "</div>"
      ],
      "text/plain": [
       "         Column  Min_count  Max_count\n",
       "0       show_id          2          5\n",
       "1          type          5          7\n",
       "2         title          1        104\n",
       "3      director          2        208\n",
       "4          cast          3        771\n",
       "5       country          4        123\n",
       "6    date_added         11         19\n",
       "7        rating          1          8\n",
       "8      duration          5         10\n",
       "9     listed_in          6         79\n",
       "10  description         61        248"
      ]
     },
     "execution_count": 11,
     "metadata": {},
     "output_type": "execute_result"
    }
   ],
   "source": [
    "# the minimum and maximum number of characters for each string variable\n",
    "\n",
    "cols=[]\n",
    "min_count=[]\n",
    "max_count=[]\n",
    "\n",
    "for col in df.columns:\n",
    "    \n",
    "    # consider only columns that are of string datatype\n",
    "    if df[col].dtype == 'object':\n",
    "         \n",
    "        min_len=df[col].str.len().min()\n",
    "        max_len=df[col].str.len().max()\n",
    "        \n",
    "        # the list of all columns that are of string datatype\n",
    "        cols.append(col)\n",
    "        \n",
    "        # minimum and maximum string length for each column\n",
    "        min_count.append(min_len)\n",
    "        max_count.append(max_len)\n",
    "\n",
    "df_chars=pd.DataFrame({'Column': cols, 'Min_count': min_count, 'Max_count': max_count})\n",
    "\n",
    "df_chars[['Min_count','Max_count']]=df_chars[['Min_count','Max_count']].astype(int)\n",
    "\n",
    "\n",
    "print('the minimum count and maximum count of the number of characters in each string variable \\n')\n",
    "\n",
    "df_chars"
   ]
  },
  {
   "cell_type": "code",
   "execution_count": 12,
   "id": "8dcc6e30-3436-49ae-9be3-57726d3fcad2",
   "metadata": {},
   "outputs": [
    {
     "data": {
      "text/plain": [
       "0                                            3%\n",
       "1                                          7:19\n",
       "2                                         23:59\n",
       "3                                             9\n",
       "4                                            21\n",
       "                         ...                   \n",
       "7782                                       Zozo\n",
       "7783                                     Zubaan\n",
       "7784                          Zulu Man in Japan\n",
       "7785                      Zumbo's Just Desserts\n",
       "7786    ZZ TOP: THAT LITTLE OL' BAND FROM TEXAS\n",
       "Name: title, Length: 7787, dtype: object"
      ]
     },
     "execution_count": 12,
     "metadata": {},
     "output_type": "execute_result"
    }
   ],
   "source": [
    "df['title'].str.len()\n",
    "df['title']"
   ]
  },
  {
   "cell_type": "code",
   "execution_count": 19,
   "id": "96b69a58-2727-4782-97c8-5bae6e41d206",
   "metadata": {},
   "outputs": [
    {
     "data": {
      "text/plain": [
       "int"
      ]
     },
     "execution_count": 19,
     "metadata": {},
     "output_type": "execute_result"
    }
   ],
   "source": [
    "for title in df['title']:\n",
    "    if len(title) < 4:\n",
    "        title=title\n",
    "        title_len=len(title)\n",
    "        pd.Datafra\n"
   ]
  },
  {
   "cell_type": "markdown",
   "id": "4944da4a",
   "metadata": {},
   "source": [
    "#### Addressing Missing Values\n",
    "\n",
    "\\\n",
    "In this section we shall address missing values."
   ]
  },
  {
   "cell_type": "code",
   "execution_count": null,
   "id": "4c5767b4",
   "metadata": {},
   "outputs": [],
   "source": [
    "df[['show_id', 'type', 'title']]=df[['show_id', 'type', 'title']].astype('str')\n"
   ]
  }
 ],
 "metadata": {
  "kernelspec": {
   "display_name": "Python 3 (ipykernel)",
   "language": "python",
   "name": "python3"
  },
  "language_info": {
   "codemirror_mode": {
    "name": "ipython",
    "version": 3
   },
   "file_extension": ".py",
   "mimetype": "text/x-python",
   "name": "python",
   "nbconvert_exporter": "python",
   "pygments_lexer": "ipython3",
   "version": "3.10.12"
  },
  "varInspector": {
   "cols": {
    "lenName": 16,
    "lenType": 16,
    "lenVar": 40
   },
   "kernels_config": {
    "python": {
     "delete_cmd_postfix": "",
     "delete_cmd_prefix": "del ",
     "library": "var_list.py",
     "varRefreshCmd": "print(var_dic_list())"
    },
    "r": {
     "delete_cmd_postfix": ") ",
     "delete_cmd_prefix": "rm(",
     "library": "var_list.r",
     "varRefreshCmd": "cat(var_dic_list()) "
    }
   },
   "types_to_exclude": [
    "module",
    "function",
    "builtin_function_or_method",
    "instance",
    "_Feature"
   ],
   "window_display": false
  }
 },
 "nbformat": 4,
 "nbformat_minor": 5
}
