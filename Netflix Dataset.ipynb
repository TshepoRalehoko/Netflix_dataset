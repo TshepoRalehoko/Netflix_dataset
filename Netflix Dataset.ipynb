{
 "cells": [
  {
   "cell_type": "markdown",
   "id": "0a51c492",
   "metadata": {},
   "source": [
    "## Netflix Dataset: Cleaning and Visualisation\n",
    "_Author: Tshepo Ralehoko_ \\\n",
    "_Date: 19 July 2023_"
   ]
  },
  {
   "cell_type": "markdown",
   "id": "37bf5081",
   "metadata": {},
   "source": [
    "#### Objective \n",
    "\n",
    "The purpose of this project is to use the __Netflix__ dataset obtained from [Kaggle](https://www.kaggle.com/datasets) website to answer the questions that listed below. Additionally, the aim of the project is to visual any interesting insights. The following insights shall be explored: \n",
    "\n"
   ]
  },
  {
   "cell_type": "markdown",
   "id": "9311d6b5",
   "metadata": {},
   "source": [
    "#### Tech Stack\n",
    "\n",
    "__Programming language: Python__ \\\n",
    "__Libraries:__ Numpy, Pandas"
   ]
  },
  {
   "cell_type": "markdown",
   "id": "165835fa",
   "metadata": {},
   "source": [
    "### Code"
   ]
  },
  {
   "cell_type": "markdown",
   "id": "0b6cc24e",
   "metadata": {},
   "source": [
    "#### Importing modules"
   ]
  },
  {
   "cell_type": "code",
   "execution_count": 2,
   "id": "e2b0f24f",
   "metadata": {},
   "outputs": [],
   "source": [
    "# importing the requiste modules\n",
    "\n",
    "import pandas as pd"
   ]
  },
  {
   "cell_type": "markdown",
   "id": "1c51f87e",
   "metadata": {},
   "source": [
    "#### Reading dataset"
   ]
  },
  {
   "cell_type": "code",
   "execution_count": 8,
   "id": "72e7e62c",
   "metadata": {},
   "outputs": [],
   "source": [
    "# loading the dataset\n",
    "\n",
    "df=pd.read_csv(filepath_or_buffer=r'C:\\Users\\rtral\\Datasets\\netflix data\\netflix_titles.csv')"
   ]
  },
  {
   "cell_type": "markdown",
   "id": "f9685610",
   "metadata": {},
   "source": [
    "#### Data Cleaning and Manipulation"
   ]
  },
  {
   "cell_type": "code",
   "execution_count": 9,
   "id": "d113cd15",
   "metadata": {
    "scrolled": false
   },
   "outputs": [
    {
     "name": "stdout",
     "output_type": "stream",
     "text": [
      "this dataset has 7787 rows and 12 columns\n"
     ]
    }
   ],
   "source": [
    "# number of rows and columns\n",
    "\n",
    "print('this dataset has {} rows and {} columns'.format(df.shape[0], df.shape[1]))"
   ]
  },
  {
   "cell_type": "code",
   "execution_count": 13,
   "id": "3baa8df2",
   "metadata": {},
   "outputs": [],
   "source": [
    "# the maximum width in characters of a column \n",
    "\n",
    "pd.set_option('display.max_colwidth', None)"
   ]
  },
  {
   "cell_type": "code",
   "execution_count": 14,
   "id": "0714d761",
   "metadata": {},
   "outputs": [
    {
     "data": {
      "text/html": [
       "<div>\n",
       "<style scoped>\n",
       "    .dataframe tbody tr th:only-of-type {\n",
       "        vertical-align: middle;\n",
       "    }\n",
       "\n",
       "    .dataframe tbody tr th {\n",
       "        vertical-align: top;\n",
       "    }\n",
       "\n",
       "    .dataframe thead th {\n",
       "        text-align: right;\n",
       "    }\n",
       "</style>\n",
       "<table border=\"1\" class=\"dataframe\">\n",
       "  <thead>\n",
       "    <tr style=\"text-align: right;\">\n",
       "      <th></th>\n",
       "      <th>show_id</th>\n",
       "      <th>type</th>\n",
       "      <th>title</th>\n",
       "      <th>director</th>\n",
       "      <th>cast</th>\n",
       "      <th>country</th>\n",
       "      <th>date_added</th>\n",
       "      <th>release_year</th>\n",
       "      <th>rating</th>\n",
       "      <th>duration</th>\n",
       "      <th>listed_in</th>\n",
       "      <th>description</th>\n",
       "    </tr>\n",
       "  </thead>\n",
       "  <tbody>\n",
       "    <tr>\n",
       "      <th>0</th>\n",
       "      <td>s1</td>\n",
       "      <td>TV Show</td>\n",
       "      <td>3%</td>\n",
       "      <td>NaN</td>\n",
       "      <td>João Miguel, Bianca Comparato, Michel Gomes, Rodolfo Valente, Vaneza Oliveira, Rafael Lozano, Viviane Porto, Mel Fronckowiak, Sergio Mamberti, Zezé Motta, Celso Frateschi</td>\n",
       "      <td>Brazil</td>\n",
       "      <td>August 14, 2020</td>\n",
       "      <td>2020</td>\n",
       "      <td>TV-MA</td>\n",
       "      <td>4 Seasons</td>\n",
       "      <td>International TV Shows, TV Dramas, TV Sci-Fi &amp; Fantasy</td>\n",
       "      <td>In a future where the elite inhabit an island paradise far from the crowded slums, you get one chance to join the 3% saved from squalor.</td>\n",
       "    </tr>\n",
       "    <tr>\n",
       "      <th>1</th>\n",
       "      <td>s2</td>\n",
       "      <td>Movie</td>\n",
       "      <td>7:19</td>\n",
       "      <td>Jorge Michel Grau</td>\n",
       "      <td>Demián Bichir, Héctor Bonilla, Oscar Serrano, Azalia Ortiz, Octavio Michel, Carmen Beato</td>\n",
       "      <td>Mexico</td>\n",
       "      <td>December 23, 2016</td>\n",
       "      <td>2016</td>\n",
       "      <td>TV-MA</td>\n",
       "      <td>93 min</td>\n",
       "      <td>Dramas, International Movies</td>\n",
       "      <td>After a devastating earthquake hits Mexico City, trapped survivors from all walks of life wait to be rescued while trying desperately to stay alive.</td>\n",
       "    </tr>\n",
       "  </tbody>\n",
       "</table>\n",
       "</div>"
      ],
      "text/plain": [
       "  show_id     type title           director  \\\n",
       "0      s1  TV Show    3%                NaN   \n",
       "1      s2    Movie  7:19  Jorge Michel Grau   \n",
       "\n",
       "                                                                                                                                                                         cast  \\\n",
       "0  João Miguel, Bianca Comparato, Michel Gomes, Rodolfo Valente, Vaneza Oliveira, Rafael Lozano, Viviane Porto, Mel Fronckowiak, Sergio Mamberti, Zezé Motta, Celso Frateschi   \n",
       "1                                                                                    Demián Bichir, Héctor Bonilla, Oscar Serrano, Azalia Ortiz, Octavio Michel, Carmen Beato   \n",
       "\n",
       "  country         date_added  release_year rating   duration  \\\n",
       "0  Brazil    August 14, 2020          2020  TV-MA  4 Seasons   \n",
       "1  Mexico  December 23, 2016          2016  TV-MA     93 min   \n",
       "\n",
       "                                                listed_in  \\\n",
       "0  International TV Shows, TV Dramas, TV Sci-Fi & Fantasy   \n",
       "1                            Dramas, International Movies   \n",
       "\n",
       "                                                                                                                                            description  \n",
       "0              In a future where the elite inhabit an island paradise far from the crowded slums, you get one chance to join the 3% saved from squalor.  \n",
       "1  After a devastating earthquake hits Mexico City, trapped survivors from all walks of life wait to be rescued while trying desperately to stay alive.  "
      ]
     },
     "execution_count": 14,
     "metadata": {},
     "output_type": "execute_result"
    }
   ],
   "source": [
    "# inspecting a few observations\n",
    "# column names are clearly visible in the print out below\n",
    "# missing values noted for the director column\n",
    "\n",
    "df.head(n=2)"
   ]
  },
  {
   "cell_type": "markdown",
   "id": "c572d772",
   "metadata": {},
   "source": [
    "#### Features guide\n",
    "\n",
    "1. __show_id:__ Show identifier\n",
    "2. __type:__ TV show or movie.\n",
    "3. __title:__ Title of the TV show or movie.\n",
    "4. __director:__ Director of the TV show or movie.\n",
    "5. __cast:__ Overall cast members.\n",
    "6. __country:__ Country released in.\n",
    "7. __date_added:__ Date added on __Netflix__.\n",
    "8. __release_year:__ The release year.\n",
    "9. __rating:__ Rating on __Netflix__.\n",
    "10. __duration:__ Duration of TV show or movie.\n",
    "11. __listed_in:__ A list of genres. \n",
    "12. __description:__ A brief description of TV show or movie.\n"
   ]
  }
 ],
 "metadata": {
  "kernelspec": {
   "display_name": "Python 3 (ipykernel)",
   "language": "python",
   "name": "python3"
  },
  "language_info": {
   "codemirror_mode": {
    "name": "ipython",
    "version": 3
   },
   "file_extension": ".py",
   "mimetype": "text/x-python",
   "name": "python",
   "nbconvert_exporter": "python",
   "pygments_lexer": "ipython3",
   "version": "3.10.12"
  },
  "varInspector": {
   "cols": {
    "lenName": 16,
    "lenType": 16,
    "lenVar": 40
   },
   "kernels_config": {
    "python": {
     "delete_cmd_postfix": "",
     "delete_cmd_prefix": "del ",
     "library": "var_list.py",
     "varRefreshCmd": "print(var_dic_list())"
    },
    "r": {
     "delete_cmd_postfix": ") ",
     "delete_cmd_prefix": "rm(",
     "library": "var_list.r",
     "varRefreshCmd": "cat(var_dic_list()) "
    }
   },
   "types_to_exclude": [
    "module",
    "function",
    "builtin_function_or_method",
    "instance",
    "_Feature"
   ],
   "window_display": false
  }
 },
 "nbformat": 4,
 "nbformat_minor": 5
}
